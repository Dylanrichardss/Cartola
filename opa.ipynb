{
 "cells": [
  {
   "cell_type": "code",
   "execution_count": 1,
   "metadata": {},
   "outputs": [],
   "source": [
    "import requests\n",
    "from bs4 import BeautifulSoup\n",
    "import pandas as pd"
   ]
  },
  {
   "cell_type": "code",
   "execution_count": 2,
   "metadata": {},
   "outputs": [],
   "source": [
    "# URL da página\n",
    "url = \"https://www.mat.ufmg.br/futebol/tabela-da-proxima-rodada_seriea/\"\n",
    "\n",
    "# Faz a requisição GET para a página\n",
    "response = requests.get(url)\n",
    "\n",
    "# Verifica se a requisição foi bem-sucedida\n",
    "if response.status_code == 200:\n",
    "    # Analisa o HTML da página\n",
    "    soup = BeautifulSoup(response.text, 'html.parser')\n",
    "\n",
    "    # Encontra a div com o id 'texto'\n",
    "    div_texto = soup.find('div', class_=\"entry-content\")\n",
    "    div_texto2 = div_texto.find('div')\n",
    "\n",
    "    rows = div_texto2.find_all('tr') \n",
    "\n",
    "    columns = div_texto2.find_all('th')"
   ]
  },
  {
   "cell_type": "code",
   "execution_count": 3,
   "metadata": {},
   "outputs": [],
   "source": [
    "colunas = []\n",
    "for coluna in columns:\n",
    "    colunas.append(coluna.text.strip())\n",
    "\n",
    "colunas = colunas[:-3]"
   ]
  },
  {
   "cell_type": "code",
   "execution_count": 4,
   "metadata": {},
   "outputs": [],
   "source": [
    "linhas = []\n",
    "for linha in rows:\n",
    "    for a in linha:\n",
    "        if a.text.strip() in colunas:\n",
    "            pass\n",
    "        else:\n",
    "            linhas.append(a.text.strip())\n",
    "    \n",
    "linhas = linhas[:-3]\n",
    "\n",
    "linhas2 = []\n",
    "for i in range(0,len(linhas)+1,5):\n",
    "    linhas2.append(linhas[i-5:i])\n",
    "\n",
    "linhas2.remove([])"
   ]
  },
  {
   "cell_type": "code",
   "execution_count": 5,
   "metadata": {},
   "outputs": [],
   "source": [
    "df = pd.DataFrame(data=linhas2,columns=colunas)"
   ]
  },
  {
   "cell_type": "code",
   "execution_count": 6,
   "metadata": {},
   "outputs": [],
   "source": [
    "df['VISITANTE'] = df['VISITANTE'].str.title()\n",
    "df['MANDANTE'] = df['MANDANTE'].str.title()\n",
    "\n",
    "df['PE'] = df['PE'].astype('float64')\n",
    "df['PVM'] = df['PVM'].astype('float64')\n",
    "df['PVV'] = df['PVV'].astype('float64')"
   ]
  },
  {
   "cell_type": "code",
   "execution_count": 7,
   "metadata": {},
   "outputs": [
    {
     "name": "stderr",
     "output_type": "stream",
     "text": [
      "C:\\Users\\dylan\\AppData\\Local\\Temp\\ipykernel_15408\\330181435.py:1: FutureWarning: Dropping of nuisance columns in DataFrame reductions (with 'numeric_only=None') is deprecated; in a future version this will raise TypeError.  Select only valid columns before calling the reduction.\n",
      "  df['Soma'] = df.sum(axis=1)\n"
     ]
    }
   ],
   "source": [
    "df['Soma'] = df.sum(axis=1)"
   ]
  },
  {
   "cell_type": "code",
   "execution_count": 8,
   "metadata": {},
   "outputs": [
    {
     "data": {
      "text/html": [
       "<div>\n",
       "<style scoped>\n",
       "    .dataframe tbody tr th:only-of-type {\n",
       "        vertical-align: middle;\n",
       "    }\n",
       "\n",
       "    .dataframe tbody tr th {\n",
       "        vertical-align: top;\n",
       "    }\n",
       "\n",
       "    .dataframe thead th {\n",
       "        text-align: right;\n",
       "    }\n",
       "</style>\n",
       "<table border=\"1\" class=\"dataframe\">\n",
       "  <thead>\n",
       "    <tr style=\"text-align: right;\">\n",
       "      <th></th>\n",
       "      <th>MANDANTE</th>\n",
       "      <th>PVM</th>\n",
       "      <th>PE</th>\n",
       "      <th>PVV</th>\n",
       "      <th>VISITANTE</th>\n",
       "      <th>Soma</th>\n",
       "    </tr>\n",
       "  </thead>\n",
       "  <tbody>\n",
       "    <tr>\n",
       "      <th>0</th>\n",
       "      <td>Flamengo</td>\n",
       "      <td>30.81</td>\n",
       "      <td>41.74</td>\n",
       "      <td>27.46</td>\n",
       "      <td>Bragantino</td>\n",
       "      <td>100.01</td>\n",
       "    </tr>\n",
       "    <tr>\n",
       "      <th>1</th>\n",
       "      <td>Botafogo</td>\n",
       "      <td>51.57</td>\n",
       "      <td>24.27</td>\n",
       "      <td>24.16</td>\n",
       "      <td>Cuiaba</td>\n",
       "      <td>100.00</td>\n",
       "    </tr>\n",
       "    <tr>\n",
       "      <th>2</th>\n",
       "      <td>Palmeiras</td>\n",
       "      <td>49.05</td>\n",
       "      <td>26.77</td>\n",
       "      <td>24.18</td>\n",
       "      <td>Bahia</td>\n",
       "      <td>100.00</td>\n",
       "    </tr>\n",
       "    <tr>\n",
       "      <th>3</th>\n",
       "      <td>Corinthians</td>\n",
       "      <td>27.11</td>\n",
       "      <td>44.43</td>\n",
       "      <td>28.46</td>\n",
       "      <td>Santos</td>\n",
       "      <td>100.00</td>\n",
       "    </tr>\n",
       "    <tr>\n",
       "      <th>4</th>\n",
       "      <td>Goiás</td>\n",
       "      <td>31.01</td>\n",
       "      <td>48.48</td>\n",
       "      <td>20.51</td>\n",
       "      <td>Vasco Da Gama</td>\n",
       "      <td>100.00</td>\n",
       "    </tr>\n",
       "    <tr>\n",
       "      <th>5</th>\n",
       "      <td>Atlético-Mg</td>\n",
       "      <td>43.16</td>\n",
       "      <td>24.33</td>\n",
       "      <td>32.51</td>\n",
       "      <td>Fluminense</td>\n",
       "      <td>100.00</td>\n",
       "    </tr>\n",
       "    <tr>\n",
       "      <th>6</th>\n",
       "      <td>Internacional</td>\n",
       "      <td>49.64</td>\n",
       "      <td>22.41</td>\n",
       "      <td>27.95</td>\n",
       "      <td>Coritiba</td>\n",
       "      <td>100.00</td>\n",
       "    </tr>\n",
       "    <tr>\n",
       "      <th>7</th>\n",
       "      <td>Athletico-Pr</td>\n",
       "      <td>40.11</td>\n",
       "      <td>46.47</td>\n",
       "      <td>13.41</td>\n",
       "      <td>São Paulo</td>\n",
       "      <td>99.99</td>\n",
       "    </tr>\n",
       "    <tr>\n",
       "      <th>8</th>\n",
       "      <td>Fortaleza</td>\n",
       "      <td>33.95</td>\n",
       "      <td>43.67</td>\n",
       "      <td>22.37</td>\n",
       "      <td>Cruzeiro</td>\n",
       "      <td>99.99</td>\n",
       "    </tr>\n",
       "    <tr>\n",
       "      <th>9</th>\n",
       "      <td>América-Mg</td>\n",
       "      <td>31.87</td>\n",
       "      <td>32.47</td>\n",
       "      <td>35.66</td>\n",
       "      <td>Grêmio</td>\n",
       "      <td>100.00</td>\n",
       "    </tr>\n",
       "  </tbody>\n",
       "</table>\n",
       "</div>"
      ],
      "text/plain": [
       "        MANDANTE    PVM     PE    PVV      VISITANTE    Soma\n",
       "0       Flamengo  30.81  41.74  27.46     Bragantino  100.01\n",
       "1       Botafogo  51.57  24.27  24.16         Cuiaba  100.00\n",
       "2      Palmeiras  49.05  26.77  24.18          Bahia  100.00\n",
       "3    Corinthians  27.11  44.43  28.46         Santos  100.00\n",
       "4          Goiás  31.01  48.48  20.51  Vasco Da Gama  100.00\n",
       "5    Atlético-Mg  43.16  24.33  32.51     Fluminense  100.00\n",
       "6  Internacional  49.64  22.41  27.95       Coritiba  100.00\n",
       "7   Athletico-Pr  40.11  46.47  13.41      São Paulo   99.99\n",
       "8      Fortaleza  33.95  43.67  22.37       Cruzeiro   99.99\n",
       "9     América-Mg  31.87  32.47  35.66         Grêmio  100.00"
      ]
     },
     "execution_count": 8,
     "metadata": {},
     "output_type": "execute_result"
    }
   ],
   "source": [
    "df"
   ]
  },
  {
   "cell_type": "code",
   "execution_count": null,
   "metadata": {},
   "outputs": [],
   "source": [
    "Botafogo\n",
    "palmeiras\n",
    "Internacional\n",
    "Atle mine"
   ]
  }
 ],
 "metadata": {
  "kernelspec": {
   "display_name": "Python 3",
   "language": "python",
   "name": "python3"
  },
  "language_info": {
   "codemirror_mode": {
    "name": "ipython",
    "version": 3
   },
   "file_extension": ".py",
   "mimetype": "text/x-python",
   "name": "python",
   "nbconvert_exporter": "python",
   "pygments_lexer": "ipython3",
   "version": "3.9.13"
  }
 },
 "nbformat": 4,
 "nbformat_minor": 2
}
